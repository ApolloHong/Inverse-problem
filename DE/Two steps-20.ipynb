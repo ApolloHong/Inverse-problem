{
 "cells": [
  {
   "cell_type": "code",
   "execution_count": 5,
   "id": "2cdcd640",
   "metadata": {},
   "outputs": [],
   "source": [
    "import numpy as np\n",
    "import matplotlib.pyplot as plt\n",
    "import time\n",
    "import pandas as pd\n",
    "from pandas.plotting import scatter_matrix\n",
    "import sklearn\n",
    "from sklearn.neighbors import KNeighborsRegressor\n",
    "from sklearn.tree import DecisionTreeRegressor\n",
    "from sklearn.ensemble import RandomForestRegressor\n",
    "from sklearn.metrics import mean_squared_error\n",
    "from sklearn.model_selection import train_test_split\n",
    "from sklearn.model_selection import GridSearchCV, RandomizedSearchCV\n",
    "from sklearn.svm import SVC\n",
    "from sklearn.model_selection import train_test_split\n",
    "from sklearn.model_selection import cross_val_score\n",
    "from sklearn.model_selection import cross_val_predict\n",
    "from sklearn.neighbors import KNeighborsClassifier\n",
    "from sklearn.metrics import f1_score\n",
    "from sklearn.metrics import confusion_matrix\n",
    "from sklearn.pipeline import Pipeline\n",
    "from sklearn.preprocessing import StandardScaler\n",
    "from sklearn.base import BaseEstimator, TransformerMixin\n",
    "from sklearn.decomposition import PCA\n",
    "import joblib"
   ]
  },
  {
   "cell_type": "code",
   "execution_count": 40,
   "id": "978e3b57",
   "metadata": {},
   "outputs": [],
   "source": [
    "def bmatrix(a):\n",
    "    \"\"\"Returns a LaTeX bmatrix\n",
    "\n",
    "    :a: numpy array\n",
    "    :returns: LaTeX bmatrix as a string\n",
    "    \"\"\"\n",
    "    if len(a.shape) > 2:\n",
    "        raise ValueError('bmatrix can at most display two dimensions')\n",
    "    lines = str(a).replace('[', '').replace(']', '').splitlines()\n",
    "    rv = [r'\\begin{bmatrix}']\n",
    "    rv += ['  ' + ' & '.join(l.split()) + r'\\\\' for l in lines]\n",
    "    rv +=  [r'\\end{bmatrix}']\n",
    "    return '\\n'.join(rv)"
   ]
  },
  {
   "cell_type": "code",
   "execution_count": 6,
   "id": "9ad1b172",
   "metadata": {},
   "outputs": [],
   "source": [
    "pd.set_option('display.max_columns', 200)  # or 1000\n",
    "pd.set_option('display.max_rows', 200)  # or 1000"
   ]
  },
  {
   "cell_type": "code",
   "execution_count": 7,
   "id": "bd78c8a6",
   "metadata": {},
   "outputs": [],
   "source": [
    "DIM = 40\n",
    "qbasis = np.loadtxt('../data/powerIAEA18480basis.txt')  # shape:(n, M), n=150, M=52*28=1456\n",
    "basis = qbasis[:DIM, :] # DIM, M\n",
    "\n",
    "field1 = pd.read_csv('../data/powerIAEA10000.txt', delimiter=' ', header=None, dtype=float)\n",
    "field2 = pd.read_csv('../data/powerIAEA8480.txt', delimiter=' ', header=None,  dtype=float)\n",
    "field = pd.concat([field1, field2], ignore_index=True)\n",
    "\n",
    "inpower18480 = pd.read_csv('../data/inpower18480.out', header=None, delimiter=' ')\n",
    "coefficient = pd.read_csv('../data/powerIAEA18480coef.txt', header=None, delimiter=' ')\n",
    "coefficient.shape\n",
    "\n",
    "SensorofQuarter = np.loadtxt('../data/SensorofQuarter.txt')\n",
    "observations =  field.dot(SensorofQuarter.T)"
   ]
  },
  {
   "cell_type": "code",
   "execution_count": 8,
   "id": "3c14b881",
   "metadata": {
    "scrolled": true
   },
   "outputs": [
    {
     "name": "stderr",
     "output_type": "stream",
     "text": [
      "C:\\Users\\Administrator\\AppData\\Local\\Temp\\ipykernel_1276\\3460267142.py:2: SettingWithCopyWarning: \n",
      "A value is trying to be set on a copy of a slice from a DataFrame\n",
      "\n",
      "See the caveats in the documentation: https://pandas.pydata.org/pandas-docs/stable/user_guide/indexing.html#returning-a-view-versus-a-copy\n",
      "  inpower.rename(columns = {1:'bu', 2:'st', 3:'pw', 4:'tin'}, inplace=True)\n"
     ]
    }
   ],
   "source": [
    "inpower= inpower18480.iloc[:, [1, 2, 3, 4]]  # chosing parameters as ML input\n",
    "inpower.rename(columns = {1:'bu', 2:'st', 3:'pw', 4:'tin'}, inplace=True)"
   ]
  },
  {
   "cell_type": "code",
   "execution_count": 9,
   "id": "18647391",
   "metadata": {},
   "outputs": [],
   "source": [
    "bins = 20\n",
    "bu_anchors = np.arange(0 + 615/(2*bins), 600, 615/bins)\n",
    "st_anchors = np.array([0, 50, 100, 150, 200, 500, 1000, 1500, 2000, 2500])\n",
    "pw_anchors = np.arange(20 + 40/10, 100, 80/10)\n",
    "tin_anchors = np.arange(295 + 2.5/10, 300, 5/10)"
   ]
  },
  {
   "cell_type": "code",
   "execution_count": 10,
   "id": "456bcb9e",
   "metadata": {},
   "outputs": [],
   "source": [
    "anchors =[bu_anchors, st_anchors, pw_anchors, tin_anchors]"
   ]
  },
  {
   "cell_type": "code",
   "execution_count": 11,
   "id": "80f51d96",
   "metadata": {},
   "outputs": [],
   "source": [
    "def  in2c(data, anchors):\n",
    "    data10  = data.values.repeat(anchors.size).reshape(-1, anchors.size)\n",
    "    return np.abs(data10 - anchors).argmin(axis = 1)"
   ]
  },
  {
   "cell_type": "code",
   "execution_count": 12,
   "id": "5c958bf8",
   "metadata": {},
   "outputs": [
    {
     "name": "stderr",
     "output_type": "stream",
     "text": [
      "C:\\Users\\Administrator\\AppData\\Local\\Temp\\ipykernel_1276\\365056042.py:1: SettingWithCopyWarning: \n",
      "A value is trying to be set on a copy of a slice from a DataFrame.\n",
      "Try using .loc[row_indexer,col_indexer] = value instead\n",
      "\n",
      "See the caveats in the documentation: https://pandas.pydata.org/pandas-docs/stable/user_guide/indexing.html#returning-a-view-versus-a-copy\n",
      "  inpower['bu_c'],inpower['pw_c'], inpower[\"tin_c\"], inpower[\"st_c\"] = \\\n",
      "C:\\Users\\Administrator\\AppData\\Local\\Temp\\ipykernel_1276\\365056042.py:1: SettingWithCopyWarning: \n",
      "A value is trying to be set on a copy of a slice from a DataFrame.\n",
      "Try using .loc[row_indexer,col_indexer] = value instead\n",
      "\n",
      "See the caveats in the documentation: https://pandas.pydata.org/pandas-docs/stable/user_guide/indexing.html#returning-a-view-versus-a-copy\n",
      "  inpower['bu_c'],inpower['pw_c'], inpower[\"tin_c\"], inpower[\"st_c\"] = \\\n",
      "C:\\Users\\Administrator\\AppData\\Local\\Temp\\ipykernel_1276\\365056042.py:1: SettingWithCopyWarning: \n",
      "A value is trying to be set on a copy of a slice from a DataFrame.\n",
      "Try using .loc[row_indexer,col_indexer] = value instead\n",
      "\n",
      "See the caveats in the documentation: https://pandas.pydata.org/pandas-docs/stable/user_guide/indexing.html#returning-a-view-versus-a-copy\n",
      "  inpower['bu_c'],inpower['pw_c'], inpower[\"tin_c\"], inpower[\"st_c\"] = \\\n",
      "C:\\Users\\Administrator\\AppData\\Local\\Temp\\ipykernel_1276\\365056042.py:1: SettingWithCopyWarning: \n",
      "A value is trying to be set on a copy of a slice from a DataFrame.\n",
      "Try using .loc[row_indexer,col_indexer] = value instead\n",
      "\n",
      "See the caveats in the documentation: https://pandas.pydata.org/pandas-docs/stable/user_guide/indexing.html#returning-a-view-versus-a-copy\n",
      "  inpower['bu_c'],inpower['pw_c'], inpower[\"tin_c\"], inpower[\"st_c\"] = \\\n"
     ]
    }
   ],
   "source": [
    "inpower['bu_c'],inpower['pw_c'], inpower[\"tin_c\"], inpower[\"st_c\"] = \\\n",
    "in2c(inpower['bu'], bu_anchors), in2c(inpower['pw'], pw_anchors), in2c(inpower['tin'], tin_anchors), in2c(inpower['st'], st_anchors)"
   ]
  },
  {
   "cell_type": "code",
   "execution_count": 13,
   "id": "2f619997",
   "metadata": {},
   "outputs": [
    {
     "data": {
      "text/html": [
       "<div>\n",
       "<style scoped>\n",
       "    .dataframe tbody tr th:only-of-type {\n",
       "        vertical-align: middle;\n",
       "    }\n",
       "\n",
       "    .dataframe tbody tr th {\n",
       "        vertical-align: top;\n",
       "    }\n",
       "\n",
       "    .dataframe thead th {\n",
       "        text-align: right;\n",
       "    }\n",
       "</style>\n",
       "<table border=\"1\" class=\"dataframe\">\n",
       "  <thead>\n",
       "    <tr style=\"text-align: right;\">\n",
       "      <th></th>\n",
       "      <th>bu</th>\n",
       "      <th>st</th>\n",
       "      <th>pw</th>\n",
       "      <th>tin</th>\n",
       "      <th>bu_c</th>\n",
       "      <th>pw_c</th>\n",
       "      <th>tin_c</th>\n",
       "      <th>st_c</th>\n",
       "    </tr>\n",
       "  </thead>\n",
       "  <tbody>\n",
       "    <tr>\n",
       "      <th>0</th>\n",
       "      <td>0</td>\n",
       "      <td>0</td>\n",
       "      <td>61.1084</td>\n",
       "      <td>291.757</td>\n",
       "      <td>0</td>\n",
       "      <td>5</td>\n",
       "      <td>0</td>\n",
       "      <td>0</td>\n",
       "    </tr>\n",
       "    <tr>\n",
       "      <th>1</th>\n",
       "      <td>0</td>\n",
       "      <td>0</td>\n",
       "      <td>44.6899</td>\n",
       "      <td>295.345</td>\n",
       "      <td>0</td>\n",
       "      <td>3</td>\n",
       "      <td>0</td>\n",
       "      <td>0</td>\n",
       "    </tr>\n",
       "    <tr>\n",
       "      <th>2</th>\n",
       "      <td>0</td>\n",
       "      <td>0</td>\n",
       "      <td>95.8081</td>\n",
       "      <td>291.717</td>\n",
       "      <td>0</td>\n",
       "      <td>9</td>\n",
       "      <td>0</td>\n",
       "      <td>0</td>\n",
       "    </tr>\n",
       "    <tr>\n",
       "      <th>3</th>\n",
       "      <td>1</td>\n",
       "      <td>0</td>\n",
       "      <td>76.1768</td>\n",
       "      <td>292.264</td>\n",
       "      <td>0</td>\n",
       "      <td>7</td>\n",
       "      <td>0</td>\n",
       "      <td>0</td>\n",
       "    </tr>\n",
       "    <tr>\n",
       "      <th>4</th>\n",
       "      <td>1</td>\n",
       "      <td>0</td>\n",
       "      <td>59.5801</td>\n",
       "      <td>291.247</td>\n",
       "      <td>0</td>\n",
       "      <td>4</td>\n",
       "      <td>0</td>\n",
       "      <td>0</td>\n",
       "    </tr>\n",
       "    <tr>\n",
       "      <th>5</th>\n",
       "      <td>1</td>\n",
       "      <td>0</td>\n",
       "      <td>26.7114</td>\n",
       "      <td>293.896</td>\n",
       "      <td>0</td>\n",
       "      <td>0</td>\n",
       "      <td>0</td>\n",
       "      <td>0</td>\n",
       "    </tr>\n",
       "    <tr>\n",
       "      <th>6</th>\n",
       "      <td>2</td>\n",
       "      <td>0</td>\n",
       "      <td>42.1777</td>\n",
       "      <td>293.680</td>\n",
       "      <td>0</td>\n",
       "      <td>2</td>\n",
       "      <td>0</td>\n",
       "      <td>0</td>\n",
       "    </tr>\n",
       "    <tr>\n",
       "      <th>7</th>\n",
       "      <td>2</td>\n",
       "      <td>0</td>\n",
       "      <td>98.6743</td>\n",
       "      <td>295.354</td>\n",
       "      <td>0</td>\n",
       "      <td>9</td>\n",
       "      <td>0</td>\n",
       "      <td>0</td>\n",
       "    </tr>\n",
       "    <tr>\n",
       "      <th>8</th>\n",
       "      <td>2</td>\n",
       "      <td>0</td>\n",
       "      <td>81.2524</td>\n",
       "      <td>296.465</td>\n",
       "      <td>0</td>\n",
       "      <td>7</td>\n",
       "      <td>2</td>\n",
       "      <td>0</td>\n",
       "    </tr>\n",
       "    <tr>\n",
       "      <th>9</th>\n",
       "      <td>3</td>\n",
       "      <td>0</td>\n",
       "      <td>81.3696</td>\n",
       "      <td>297.802</td>\n",
       "      <td>0</td>\n",
       "      <td>7</td>\n",
       "      <td>5</td>\n",
       "      <td>0</td>\n",
       "    </tr>\n",
       "    <tr>\n",
       "      <th>10</th>\n",
       "      <td>3</td>\n",
       "      <td>0</td>\n",
       "      <td>85.8350</td>\n",
       "      <td>291.519</td>\n",
       "      <td>0</td>\n",
       "      <td>8</td>\n",
       "      <td>0</td>\n",
       "      <td>0</td>\n",
       "    </tr>\n",
       "    <tr>\n",
       "      <th>11</th>\n",
       "      <td>3</td>\n",
       "      <td>0</td>\n",
       "      <td>70.0366</td>\n",
       "      <td>293.147</td>\n",
       "      <td>0</td>\n",
       "      <td>6</td>\n",
       "      <td>0</td>\n",
       "      <td>0</td>\n",
       "    </tr>\n",
       "    <tr>\n",
       "      <th>12</th>\n",
       "      <td>4</td>\n",
       "      <td>0</td>\n",
       "      <td>47.7515</td>\n",
       "      <td>299.172</td>\n",
       "      <td>0</td>\n",
       "      <td>3</td>\n",
       "      <td>8</td>\n",
       "      <td>0</td>\n",
       "    </tr>\n",
       "    <tr>\n",
       "      <th>13</th>\n",
       "      <td>4</td>\n",
       "      <td>0</td>\n",
       "      <td>61.5796</td>\n",
       "      <td>294.012</td>\n",
       "      <td>0</td>\n",
       "      <td>5</td>\n",
       "      <td>0</td>\n",
       "      <td>0</td>\n",
       "    </tr>\n",
       "    <tr>\n",
       "      <th>14</th>\n",
       "      <td>4</td>\n",
       "      <td>0</td>\n",
       "      <td>68.5400</td>\n",
       "      <td>297.854</td>\n",
       "      <td>0</td>\n",
       "      <td>6</td>\n",
       "      <td>5</td>\n",
       "      <td>0</td>\n",
       "    </tr>\n",
       "    <tr>\n",
       "      <th>15</th>\n",
       "      <td>5</td>\n",
       "      <td>0</td>\n",
       "      <td>94.5215</td>\n",
       "      <td>298.699</td>\n",
       "      <td>0</td>\n",
       "      <td>9</td>\n",
       "      <td>7</td>\n",
       "      <td>0</td>\n",
       "    </tr>\n",
       "    <tr>\n",
       "      <th>16</th>\n",
       "      <td>5</td>\n",
       "      <td>0</td>\n",
       "      <td>89.3213</td>\n",
       "      <td>296.745</td>\n",
       "      <td>0</td>\n",
       "      <td>8</td>\n",
       "      <td>3</td>\n",
       "      <td>0</td>\n",
       "    </tr>\n",
       "    <tr>\n",
       "      <th>17</th>\n",
       "      <td>5</td>\n",
       "      <td>0</td>\n",
       "      <td>80.6714</td>\n",
       "      <td>295.819</td>\n",
       "      <td>0</td>\n",
       "      <td>7</td>\n",
       "      <td>1</td>\n",
       "      <td>0</td>\n",
       "    </tr>\n",
       "    <tr>\n",
       "      <th>18</th>\n",
       "      <td>6</td>\n",
       "      <td>0</td>\n",
       "      <td>51.1377</td>\n",
       "      <td>293.556</td>\n",
       "      <td>0</td>\n",
       "      <td>3</td>\n",
       "      <td>0</td>\n",
       "      <td>0</td>\n",
       "    </tr>\n",
       "    <tr>\n",
       "      <th>19</th>\n",
       "      <td>6</td>\n",
       "      <td>0</td>\n",
       "      <td>36.0181</td>\n",
       "      <td>298.269</td>\n",
       "      <td>0</td>\n",
       "      <td>2</td>\n",
       "      <td>6</td>\n",
       "      <td>0</td>\n",
       "    </tr>\n",
       "  </tbody>\n",
       "</table>\n",
       "</div>"
      ],
      "text/plain": [
       "    bu  st       pw      tin  bu_c  pw_c  tin_c  st_c\n",
       "0    0   0  61.1084  291.757     0     5      0     0\n",
       "1    0   0  44.6899  295.345     0     3      0     0\n",
       "2    0   0  95.8081  291.717     0     9      0     0\n",
       "3    1   0  76.1768  292.264     0     7      0     0\n",
       "4    1   0  59.5801  291.247     0     4      0     0\n",
       "5    1   0  26.7114  293.896     0     0      0     0\n",
       "6    2   0  42.1777  293.680     0     2      0     0\n",
       "7    2   0  98.6743  295.354     0     9      0     0\n",
       "8    2   0  81.2524  296.465     0     7      2     0\n",
       "9    3   0  81.3696  297.802     0     7      5     0\n",
       "10   3   0  85.8350  291.519     0     8      0     0\n",
       "11   3   0  70.0366  293.147     0     6      0     0\n",
       "12   4   0  47.7515  299.172     0     3      8     0\n",
       "13   4   0  61.5796  294.012     0     5      0     0\n",
       "14   4   0  68.5400  297.854     0     6      5     0\n",
       "15   5   0  94.5215  298.699     0     9      7     0\n",
       "16   5   0  89.3213  296.745     0     8      3     0\n",
       "17   5   0  80.6714  295.819     0     7      1     0\n",
       "18   6   0  51.1377  293.556     0     3      0     0\n",
       "19   6   0  36.0181  298.269     0     2      6     0"
      ]
     },
     "execution_count": 13,
     "metadata": {},
     "output_type": "execute_result"
    }
   ],
   "source": [
    "inpower.head(20)"
   ]
  },
  {
   "cell_type": "code",
   "execution_count": 14,
   "id": "201f0759",
   "metadata": {},
   "outputs": [
    {
     "data": {
      "text/html": [
       "<div>\n",
       "<style scoped>\n",
       "    .dataframe tbody tr th:only-of-type {\n",
       "        vertical-align: middle;\n",
       "    }\n",
       "\n",
       "    .dataframe tbody tr th {\n",
       "        vertical-align: top;\n",
       "    }\n",
       "\n",
       "    .dataframe thead th {\n",
       "        text-align: right;\n",
       "    }\n",
       "</style>\n",
       "<table border=\"1\" class=\"dataframe\">\n",
       "  <thead>\n",
       "    <tr style=\"text-align: right;\">\n",
       "      <th></th>\n",
       "      <th>bu</th>\n",
       "      <th>st</th>\n",
       "      <th>pw</th>\n",
       "      <th>tin</th>\n",
       "      <th>bu_c</th>\n",
       "      <th>pw_c</th>\n",
       "      <th>tin_c</th>\n",
       "      <th>st_c</th>\n",
       "    </tr>\n",
       "  </thead>\n",
       "  <tbody>\n",
       "    <tr>\n",
       "      <th>count</th>\n",
       "      <td>18480.00000</td>\n",
       "      <td>18480.000000</td>\n",
       "      <td>18480.000000</td>\n",
       "      <td>18480.000000</td>\n",
       "      <td>18480.000000</td>\n",
       "      <td>18480.000000</td>\n",
       "      <td>18480.000000</td>\n",
       "      <td>18480.000000</td>\n",
       "    </tr>\n",
       "    <tr>\n",
       "      <th>mean</th>\n",
       "      <td>307.50000</td>\n",
       "      <td>800.000000</td>\n",
       "      <td>60.030254</td>\n",
       "      <td>295.001593</td>\n",
       "      <td>9.496753</td>\n",
       "      <td>4.504762</td>\n",
       "      <td>2.242370</td>\n",
       "      <td>4.500000</td>\n",
       "    </tr>\n",
       "    <tr>\n",
       "      <th>std</th>\n",
       "      <td>177.82846</td>\n",
       "      <td>861.707712</td>\n",
       "      <td>23.088962</td>\n",
       "      <td>2.878586</td>\n",
       "      <td>5.773752</td>\n",
       "      <td>2.873805</td>\n",
       "      <td>3.024061</td>\n",
       "      <td>2.872359</td>\n",
       "    </tr>\n",
       "    <tr>\n",
       "      <th>min</th>\n",
       "      <td>0.00000</td>\n",
       "      <td>0.000000</td>\n",
       "      <td>20.004900</td>\n",
       "      <td>290.000000</td>\n",
       "      <td>0.000000</td>\n",
       "      <td>0.000000</td>\n",
       "      <td>0.000000</td>\n",
       "      <td>0.000000</td>\n",
       "    </tr>\n",
       "    <tr>\n",
       "      <th>25%</th>\n",
       "      <td>153.75000</td>\n",
       "      <td>100.000000</td>\n",
       "      <td>39.975600</td>\n",
       "      <td>292.510750</td>\n",
       "      <td>4.750000</td>\n",
       "      <td>2.000000</td>\n",
       "      <td>0.000000</td>\n",
       "      <td>2.000000</td>\n",
       "    </tr>\n",
       "    <tr>\n",
       "      <th>50%</th>\n",
       "      <td>307.50000</td>\n",
       "      <td>350.000000</td>\n",
       "      <td>60.450450</td>\n",
       "      <td>294.991000</td>\n",
       "      <td>9.500000</td>\n",
       "      <td>5.000000</td>\n",
       "      <td>0.000000</td>\n",
       "      <td>4.500000</td>\n",
       "    </tr>\n",
       "    <tr>\n",
       "      <th>75%</th>\n",
       "      <td>461.25000</td>\n",
       "      <td>1500.000000</td>\n",
       "      <td>80.054325</td>\n",
       "      <td>297.505000</td>\n",
       "      <td>14.250000</td>\n",
       "      <td>7.000000</td>\n",
       "      <td>5.000000</td>\n",
       "      <td>7.000000</td>\n",
       "    </tr>\n",
       "    <tr>\n",
       "      <th>max</th>\n",
       "      <td>615.00000</td>\n",
       "      <td>2500.000000</td>\n",
       "      <td>99.995100</td>\n",
       "      <td>299.998000</td>\n",
       "      <td>19.000000</td>\n",
       "      <td>9.000000</td>\n",
       "      <td>9.000000</td>\n",
       "      <td>9.000000</td>\n",
       "    </tr>\n",
       "  </tbody>\n",
       "</table>\n",
       "</div>"
      ],
      "text/plain": [
       "                bu            st            pw           tin          bu_c  \\\n",
       "count  18480.00000  18480.000000  18480.000000  18480.000000  18480.000000   \n",
       "mean     307.50000    800.000000     60.030254    295.001593      9.496753   \n",
       "std      177.82846    861.707712     23.088962      2.878586      5.773752   \n",
       "min        0.00000      0.000000     20.004900    290.000000      0.000000   \n",
       "25%      153.75000    100.000000     39.975600    292.510750      4.750000   \n",
       "50%      307.50000    350.000000     60.450450    294.991000      9.500000   \n",
       "75%      461.25000   1500.000000     80.054325    297.505000     14.250000   \n",
       "max      615.00000   2500.000000     99.995100    299.998000     19.000000   \n",
       "\n",
       "               pw_c         tin_c          st_c  \n",
       "count  18480.000000  18480.000000  18480.000000  \n",
       "mean       4.504762      2.242370      4.500000  \n",
       "std        2.873805      3.024061      2.872359  \n",
       "min        0.000000      0.000000      0.000000  \n",
       "25%        2.000000      0.000000      2.000000  \n",
       "50%        5.000000      0.000000      4.500000  \n",
       "75%        7.000000      5.000000      7.000000  \n",
       "max        9.000000      9.000000      9.000000  "
      ]
     },
     "execution_count": 14,
     "metadata": {},
     "output_type": "execute_result"
    }
   ],
   "source": [
    "inpower.describe()"
   ]
  },
  {
   "cell_type": "code",
   "execution_count": 15,
   "id": "a62031e6",
   "metadata": {},
   "outputs": [],
   "source": [
    "ob_train_full, ob_test,  in_train_full , in_test = train_test_split(observations, inpower, test_size = 0.05, random_state = 42 )\n",
    "ob_train, ob_val,  in_train , in_val = train_test_split(ob_train_full, in_train_full, test_size = 0.2, random_state = 42 )"
   ]
  },
  {
   "cell_type": "code",
   "execution_count": 24,
   "id": "4c4ddcfe",
   "metadata": {},
   "outputs": [],
   "source": [
    "pca = PCA(n_components = 0.999)"
   ]
  },
  {
   "cell_type": "code",
   "execution_count": 25,
   "id": "bb2dd56a",
   "metadata": {},
   "outputs": [],
   "source": [
    "proc = Pipeline([('pca', pca),\n",
    "               ('ss', StandardScaler())])"
   ]
  },
  {
   "cell_type": "code",
   "execution_count": 26,
   "id": "29c964e8",
   "metadata": {},
   "outputs": [
    {
     "data": {
      "text/plain": [
       "Pipeline(steps=[('pca', PCA(n_components=0.999)), ('ss', StandardScaler())])"
      ]
     },
     "execution_count": 26,
     "metadata": {},
     "output_type": "execute_result"
    }
   ],
   "source": [
    "proc.fit(ob_train_full)"
   ]
  },
  {
   "cell_type": "code",
   "execution_count": 27,
   "id": "fcf19594",
   "metadata": {},
   "outputs": [],
   "source": [
    "bu_svc = SVC()"
   ]
  },
  {
   "cell_type": "code",
   "execution_count": 28,
   "id": "d5e5b3a5",
   "metadata": {},
   "outputs": [
    {
     "data": {
      "text/plain": [
       "SVC()"
      ]
     },
     "execution_count": 28,
     "metadata": {},
     "output_type": "execute_result"
    }
   ],
   "source": [
    "bu_svc.fit(proc.transform(ob_train), in_train['bu_c'])"
   ]
  },
  {
   "cell_type": "code",
   "execution_count": 29,
   "id": "13f4b795",
   "metadata": {},
   "outputs": [],
   "source": [
    "prd = bu_svc.predict(proc.transform(ob_val))"
   ]
  },
  {
   "cell_type": "code",
   "execution_count": 30,
   "id": "3224e55c",
   "metadata": {},
   "outputs": [
    {
     "data": {
      "text/plain": [
       "21"
      ]
     },
     "execution_count": 30,
     "metadata": {},
     "output_type": "execute_result"
    }
   ],
   "source": [
    "bu_svc.n_features_in_"
   ]
  },
  {
   "cell_type": "code",
   "execution_count": 39,
   "id": "c6969f61",
   "metadata": {},
   "outputs": [
    {
     "data": {
      "text/plain": [
       "array([[183,   2,   0,   0,   0,   0,   0,   0,   0,   0,   0,   0,   0,\n",
       "          0,   0,   0,   0,   0,   0,   0],\n",
       "       [  0, 169,   8,   0,   0,   0,   0,   0,   0,   0,   0,   0,   0,\n",
       "          0,   0,   0,   0,   0,   0,   0],\n",
       "       [  0,   3, 174,   4,   0,   0,   0,   0,   0,   0,   0,   0,   0,\n",
       "          0,   0,   0,   0,   0,   0,   0],\n",
       "       [  0,   0,   2, 169,   2,   0,   0,   0,   0,   0,   0,   0,   0,\n",
       "          0,   0,   0,   0,   0,   0,   0],\n",
       "       [  0,   0,   0,   0, 171,   5,   0,   0,   0,   0,   0,   0,   0,\n",
       "          0,   0,   0,   0,   0,   0,   0],\n",
       "       [  0,   0,   0,   0,   0, 170,   1,   0,   0,   0,   0,   0,   0,\n",
       "          0,   0,   0,   0,   0,   0,   0],\n",
       "       [  0,   0,   0,   0,   0,   0, 162,   5,   0,   0,   0,   0,   0,\n",
       "          0,   0,   0,   0,   0,   0,   0],\n",
       "       [  0,   0,   0,   0,   0,   0,   1, 172,   3,   0,   0,   0,   0,\n",
       "          0,   0,   0,   0,   0,   0,   0],\n",
       "       [  0,   0,   0,   0,   0,   0,   0,   0, 179,   1,   0,   0,   0,\n",
       "          0,   0,   0,   0,   0,   0,   0],\n",
       "       [  0,   0,   0,   0,   0,   0,   0,   0,   1, 173,   0,   0,   0,\n",
       "          0,   0,   0,   0,   0,   0,   0],\n",
       "       [  0,   0,   0,   0,   0,   0,   0,   0,   0,   3, 181,   1,   0,\n",
       "          0,   0,   0,   0,   0,   0,   0],\n",
       "       [  0,   0,   0,   0,   0,   0,   0,   0,   0,   0,   0, 192,   0,\n",
       "          0,   0,   0,   0,   0,   0,   0],\n",
       "       [  0,   0,   0,   0,   0,   0,   0,   0,   0,   0,   0,   1, 158,\n",
       "          0,   0,   0,   0,   0,   0,   0],\n",
       "       [  0,   0,   0,   0,   0,   0,   0,   0,   0,   0,   0,   0,   3,\n",
       "        159,   0,   0,   0,   0,   0,   0],\n",
       "       [  0,   0,   0,   0,   0,   0,   0,   0,   0,   0,   0,   0,   0,\n",
       "          1, 158,   0,   0,   0,   0,   0],\n",
       "       [  0,   0,   0,   0,   0,   0,   0,   0,   0,   0,   0,   0,   0,\n",
       "          0,   3, 176,   0,   0,   0,   0],\n",
       "       [  0,   0,   0,   0,   0,   0,   0,   0,   0,   0,   0,   0,   0,\n",
       "          0,   0,   2, 159,   2,   0,   0],\n",
       "       [  0,   0,   0,   0,   0,   0,   0,   0,   0,   0,   0,   0,   0,\n",
       "          0,   0,   0,   1, 188,   1,   0],\n",
       "       [  0,   0,   0,   0,   0,   0,   0,   0,   0,   0,   0,   0,   0,\n",
       "          0,   0,   0,   0,   0, 198,   0],\n",
       "       [  0,   0,   0,   0,   0,   0,   0,   0,   0,   0,   0,   0,   0,\n",
       "          0,   0,   0,   0,   0,   1, 164]], dtype=int64)"
      ]
     },
     "execution_count": 39,
     "metadata": {},
     "output_type": "execute_result"
    }
   ],
   "source": [
    "cm_bu=confusion_matrix(in_val['bu_c'], prd)\n",
    "cm_bu"
   ]
  },
  {
   "cell_type": "code",
   "execution_count": 42,
   "id": "94909506",
   "metadata": {},
   "outputs": [
    {
     "name": "stdout",
     "output_type": "stream",
     "text": [
      "\\begin{bmatrix}\n",
      "  183 & 2 & 0 & 0 & 0 & 0 & 0 & 0 & 0 & 0 & 0 & 0 & 0 & 0 & 0 & 0 & 0 & 0\\\\\n",
      "  0 & 0\\\\\n",
      "  0 & 169 & 8 & 0 & 0 & 0 & 0 & 0 & 0 & 0 & 0 & 0 & 0 & 0 & 0 & 0 & 0 & 0\\\\\n",
      "  0 & 0\\\\\n",
      "  0 & 3 & 174 & 4 & 0 & 0 & 0 & 0 & 0 & 0 & 0 & 0 & 0 & 0 & 0 & 0 & 0 & 0\\\\\n",
      "  0 & 0\\\\\n",
      "  0 & 0 & 2 & 169 & 2 & 0 & 0 & 0 & 0 & 0 & 0 & 0 & 0 & 0 & 0 & 0 & 0 & 0\\\\\n",
      "  0 & 0\\\\\n",
      "  0 & 0 & 0 & 0 & 171 & 5 & 0 & 0 & 0 & 0 & 0 & 0 & 0 & 0 & 0 & 0 & 0 & 0\\\\\n",
      "  0 & 0\\\\\n",
      "  0 & 0 & 0 & 0 & 0 & 170 & 1 & 0 & 0 & 0 & 0 & 0 & 0 & 0 & 0 & 0 & 0 & 0\\\\\n",
      "  0 & 0\\\\\n",
      "  0 & 0 & 0 & 0 & 0 & 0 & 162 & 5 & 0 & 0 & 0 & 0 & 0 & 0 & 0 & 0 & 0 & 0\\\\\n",
      "  0 & 0\\\\\n",
      "  0 & 0 & 0 & 0 & 0 & 0 & 1 & 172 & 3 & 0 & 0 & 0 & 0 & 0 & 0 & 0 & 0 & 0\\\\\n",
      "  0 & 0\\\\\n",
      "  0 & 0 & 0 & 0 & 0 & 0 & 0 & 0 & 179 & 1 & 0 & 0 & 0 & 0 & 0 & 0 & 0 & 0\\\\\n",
      "  0 & 0\\\\\n",
      "  0 & 0 & 0 & 0 & 0 & 0 & 0 & 0 & 1 & 173 & 0 & 0 & 0 & 0 & 0 & 0 & 0 & 0\\\\\n",
      "  0 & 0\\\\\n",
      "  0 & 0 & 0 & 0 & 0 & 0 & 0 & 0 & 0 & 3 & 181 & 1 & 0 & 0 & 0 & 0 & 0 & 0\\\\\n",
      "  0 & 0\\\\\n",
      "  0 & 0 & 0 & 0 & 0 & 0 & 0 & 0 & 0 & 0 & 0 & 192 & 0 & 0 & 0 & 0 & 0 & 0\\\\\n",
      "  0 & 0\\\\\n",
      "  0 & 0 & 0 & 0 & 0 & 0 & 0 & 0 & 0 & 0 & 0 & 1 & 158 & 0 & 0 & 0 & 0 & 0\\\\\n",
      "  0 & 0\\\\\n",
      "  0 & 0 & 0 & 0 & 0 & 0 & 0 & 0 & 0 & 0 & 0 & 0 & 3 & 159 & 0 & 0 & 0 & 0\\\\\n",
      "  0 & 0\\\\\n",
      "  0 & 0 & 0 & 0 & 0 & 0 & 0 & 0 & 0 & 0 & 0 & 0 & 0 & 1 & 158 & 0 & 0 & 0\\\\\n",
      "  0 & 0\\\\\n",
      "  0 & 0 & 0 & 0 & 0 & 0 & 0 & 0 & 0 & 0 & 0 & 0 & 0 & 0 & 3 & 176 & 0 & 0\\\\\n",
      "  0 & 0\\\\\n",
      "  0 & 0 & 0 & 0 & 0 & 0 & 0 & 0 & 0 & 0 & 0 & 0 & 0 & 0 & 0 & 2 & 159 & 2\\\\\n",
      "  0 & 0\\\\\n",
      "  0 & 0 & 0 & 0 & 0 & 0 & 0 & 0 & 0 & 0 & 0 & 0 & 0 & 0 & 0 & 0 & 1 & 188\\\\\n",
      "  1 & 0\\\\\n",
      "  0 & 0 & 0 & 0 & 0 & 0 & 0 & 0 & 0 & 0 & 0 & 0 & 0 & 0 & 0 & 0 & 0 & 0\\\\\n",
      "  198 & 0\\\\\n",
      "  0 & 0 & 0 & 0 & 0 & 0 & 0 & 0 & 0 & 0 & 0 & 0 & 0 & 0 & 0 & 0 & 0 & 0\\\\\n",
      "  1 & 164\\\\\n",
      "\\end{bmatrix}\n"
     ]
    }
   ],
   "source": [
    "print(bmatrix(cm_bu))"
   ]
  },
  {
   "cell_type": "code",
   "execution_count": 32,
   "id": "35f3f144",
   "metadata": {},
   "outputs": [
    {
     "data": {
      "text/plain": [
       "0.9837080547508869"
      ]
     },
     "execution_count": 32,
     "metadata": {},
     "output_type": "execute_result"
    }
   ],
   "source": [
    "f1_score(in_val['bu_c'], prd, average='macro')"
   ]
  },
  {
   "cell_type": "code",
   "execution_count": 33,
   "id": "9a14c2af",
   "metadata": {},
   "outputs": [
    {
     "data": {
      "text/plain": [
       "array([[357,   0,   0,   0,   0,   0,   0,   0,   0,   0],\n",
       "       [  7, 314,   6,   0,   0,   0,   0,   0,   0,   0],\n",
       "       [  6,   2, 337,  15,   0,   0,   0,   0,   0,   0],\n",
       "       [  0,   0,  15, 327,  20,   0,   0,   0,   0,   0],\n",
       "       [  1,   0,   0,  15, 349,   0,   0,   0,   0,   0],\n",
       "       [  0,   0,   0,   0,   0, 354,   0,   0,   0,   0],\n",
       "       [  0,   0,   0,   0,   0,   0, 320,   0,   0,   0],\n",
       "       [  0,   0,   0,   0,   0,   0,   0, 376,   0,   0],\n",
       "       [  0,   0,   0,   0,   0,   0,   0,   0, 334,   0],\n",
       "       [  0,   0,   0,   0,   0,   0,   0,   0,   0, 357]], dtype=int64)"
      ]
     },
     "execution_count": 33,
     "metadata": {},
     "output_type": "execute_result"
    }
   ],
   "source": [
    "st_svc = SVC()\n",
    "st_svc.fit(proc.transform(ob_train), in_train['st_c'])\n",
    "st_prd = st_svc.predict(proc.transform(ob_val))\n",
    "confusion_matrix(in_val['st_c'], st_prd)"
   ]
  },
  {
   "cell_type": "code",
   "execution_count": 34,
   "id": "674a58ac",
   "metadata": {},
   "outputs": [
    {
     "data": {
      "text/plain": [
       "0.9756710084926434"
      ]
     },
     "execution_count": 34,
     "metadata": {},
     "output_type": "execute_result"
    }
   ],
   "source": [
    "f1_score(in_val['st_c'], st_prd, average='macro')"
   ]
  },
  {
   "cell_type": "code",
   "execution_count": 38,
   "id": "dd8225d3",
   "metadata": {},
   "outputs": [
    {
     "data": {
      "text/plain": [
       "21"
      ]
     },
     "execution_count": 38,
     "metadata": {},
     "output_type": "execute_result"
    }
   ],
   "source": [
    "st_svc.n_features_in_"
   ]
  },
  {
   "cell_type": "code",
   "execution_count": 35,
   "id": "8aa913d0",
   "metadata": {},
   "outputs": [
    {
     "data": {
      "text/plain": [
       "bu        416.0000\n",
       "st       2500.0000\n",
       "pw         31.1987\n",
       "tin       292.9200\n",
       "bu_c       13.0000\n",
       "pw_c        1.0000\n",
       "tin_c       0.0000\n",
       "st_c        9.0000\n",
       "Name: 17880, dtype: float64"
      ]
     },
     "execution_count": 35,
     "metadata": {},
     "output_type": "execute_result"
    }
   ],
   "source": [
    "in_val.iloc[1]"
   ]
  },
  {
   "cell_type": "code",
   "execution_count": 36,
   "id": "e707dbbf",
   "metadata": {},
   "outputs": [
    {
     "data": {
      "text/plain": [
       "array([[237, 108,  26,   6,   0,   0,   0,   0,   0,   0],\n",
       "       [ 76, 165,  57,  28,   5,   0,   0,   0,   0,   0],\n",
       "       [ 13,  87, 138,  75,   9,  12,   1,   0,   0,   0],\n",
       "       [  2,  24,  83, 155,  63,  31,   5,   2,   0,   0],\n",
       "       [  0,   2,  27,  84,  87, 105,  27,   6,   0,   0],\n",
       "       [  0,   0,   1,  31,  58, 165,  86,  36,  10,   0],\n",
       "       [  0,   0,   0,   0,  10, 106, 130,  50,  30,  12],\n",
       "       [  0,   0,   0,   0,   0,  31,  80, 101,  96,  37],\n",
       "       [  0,   0,   0,   0,   0,   4,  27,  69, 177,  95],\n",
       "       [  0,   0,   0,   0,   0,   0,   2,  16, 118, 188]], dtype=int64)"
      ]
     },
     "execution_count": 36,
     "metadata": {},
     "output_type": "execute_result"
    }
   ],
   "source": [
    "pw_svc = SVC()\n",
    "pw_svc.fit(proc.transform(ob_train), in_train['pw_c'])\n",
    "pw_prd = pw_svc.predict(proc.transform(ob_val))\n",
    "confusion_matrix(in_val['pw_c'], pw_prd)"
   ]
  },
  {
   "cell_type": "code",
   "execution_count": 37,
   "id": "b4ba5b36",
   "metadata": {},
   "outputs": [
    {
     "data": {
      "text/plain": [
       "0.4371485185963895"
      ]
     },
     "execution_count": 37,
     "metadata": {},
     "output_type": "execute_result"
    }
   ],
   "source": [
    "f1_score(in_val['pw_c'], pw_prd, average=\"macro\")"
   ]
  },
  {
   "cell_type": "code",
   "execution_count": 24,
   "id": "77a87a51",
   "metadata": {
    "collapsed": true
   },
   "outputs": [],
   "source": [
    "class MultiPredictor (BaseEstimator, TransformerMixin):\n",
    "    def __init__(self, predictors):\n",
    "        self.predictors = predictors\n",
    "    def fit(self, X, y=None):\n",
    "        return self\n",
    "    def transform(self, X, y=None):\n",
    "        return X\n",
    "    def predict(self, X):\n",
    "        y =np.array([e.predict(X) for e in self.predictors])\n",
    "        return y.T.squeeze()\n",
    "    def decision_function(self, X):\n",
    "        y =np.array([e.decision_function(X) for e in self.predictors]).squeeze()\n",
    "        return y"
   ]
  },
  {
   "cell_type": "code",
   "execution_count": 25,
   "id": "1e6a1d44",
   "metadata": {
    "collapsed": true
   },
   "outputs": [],
   "source": [
    "obs2in = Pipeline([('proc', proc),\n",
    "                   ('multipred', MultiPredictor([bu_svc, st_svc, pw_svc]))\n",
    "                  ])"
   ]
  },
  {
   "cell_type": "code",
   "execution_count": 26,
   "id": "c9d3a2a3",
   "metadata": {
    "collapsed": true
   },
   "outputs": [],
   "source": [
    "y = obs2in.predict(ob_val.iloc[1:2,:])"
   ]
  },
  {
   "cell_type": "code",
   "execution_count": 27,
   "id": "67f08c28",
   "metadata": {},
   "outputs": [
    {
     "data": {
      "text/plain": [
       "[array([ 15.375,  46.125,  76.875, 107.625, 138.375, 169.125, 199.875,\n",
       "        230.625, 261.375, 292.125, 322.875, 353.625, 384.375, 415.125,\n",
       "        445.875, 476.625, 507.375, 538.125, 568.875, 599.625]),\n",
       " array([   0,   50,  100,  150,  200,  500, 1000, 1500, 2000, 2500]),\n",
       " array([24., 32., 40., 48., 56., 64., 72., 80., 88., 96.]),\n",
       " array([295.25, 295.75, 296.25, 296.75, 297.25, 297.75, 298.25, 298.75,\n",
       "        299.25, 299.75])]"
      ]
     },
     "execution_count": 27,
     "metadata": {},
     "output_type": "execute_result"
    }
   ],
   "source": [
    "anchors"
   ]
  },
  {
   "cell_type": "code",
   "execution_count": 28,
   "id": "ad2cd137",
   "metadata": {
    "collapsed": true
   },
   "outputs": [],
   "source": [
    "def get_bound____(cs, anchors, ms):\n",
    "    # cs.shape:1*3, ms.shape:1*3, anchors.shape:1*3\n",
    "    return [(a[max(0, c-m)], a[min(a.size-1, c+m)])  for c, a, m in zip(cs, anchors, ms)]"
   ]
  },
  {
   "cell_type": "code",
   "execution_count": 29,
   "id": "860d0cf3",
   "metadata": {
    "collapsed": true
   },
   "outputs": [],
   "source": [
    "# 原论文中的6个测试样本的输入\n",
    "mus = np.array([[0, 0, 61.11, 291.76],\n",
    "                [200, 500, 73.51, 290.54],\n",
    "                [400, 1000, 28.03, 298.74],\n",
    "                [500, 1000, 52.96, 291.51],\n",
    "                [130, 1500, 52.15, 291.01],\n",
    "                [130, 1500, 52.15, 291.01]])"
   ]
  },
  {
   "cell_type": "code",
   "execution_count": 30,
   "id": "44cfc49c",
   "metadata": {
    "collapsed": true
   },
   "outputs": [],
   "source": [
    "# 原论文中6个测试输入的猜测值\n",
    "mu_initials = np.array([[20, 100, 61.11, 291.76],\n",
    "                      [210, 600, 71.51, 293.54],\n",
    "                      [400, 1000, 18.00, 293.54],\n",
    "                      [500, 1000, 35.00, 297.54],\n",
    "                      [120, 1700, 52.15, 300.00],\n",
    "                      [130, 1480, 52.15, 300.00]])"
   ]
  },
  {
   "cell_type": "code",
   "execution_count": 31,
   "id": "4f15b211",
   "metadata": {
    "collapsed": true
   },
   "outputs": [],
   "source": [
    "#  6个测试输入在数据集中的编号\n",
    "mus_indx = [(inpower.iloc[:,0:4] - mus[i]).abs().sum(axis = 1).argmin() for i in range(6)]"
   ]
  },
  {
   "cell_type": "code",
   "execution_count": 32,
   "id": "81dc8605",
   "metadata": {},
   "outputs": [
    {
     "data": {
      "text/plain": [
       "[0, 9841, 12288, 12589, 13326, 13326]"
      ]
     },
     "execution_count": 32,
     "metadata": {},
     "output_type": "execute_result"
    }
   ],
   "source": [
    "mus_indx"
   ]
  },
  {
   "cell_type": "code",
   "execution_count": 33,
   "id": "ae3afd3b",
   "metadata": {},
   "outputs": [
    {
     "data": {
      "text/plain": [
       "(array([[  15.375,  150.   ,   64.   ],\n",
       "        [ 199.875,  500.   ,   72.   ],\n",
       "        [ 384.375, 1000.   ,   64.   ],\n",
       "        [ 507.375, 1000.   ,   64.   ],\n",
       "        [ 138.375, 1500.   ,   40.   ],\n",
       "        [ 138.375, 1500.   ,   40.   ]]),\n",
       " array([[ 0,  3,  5],\n",
       "        [ 6,  5,  6],\n",
       "        [12,  6,  5],\n",
       "        [16,  6,  5],\n",
       "        [ 4,  7,  2],\n",
       "        [ 4,  7,  2]], dtype=int64))"
      ]
     },
     "execution_count": 33,
     "metadata": {},
     "output_type": "execute_result"
    }
   ],
   "source": [
    "x = observations.iloc[mus_indx,:]\n",
    "\n",
    "c = obs2in.predict(x)\n",
    "\n",
    "to_anchor = lambda y: np.array([ a[c]  for a , c in zip(anchors, y.T)]).T\n",
    "\n",
    "y = to_anchor(c)\n",
    "\n",
    "y, c"
   ]
  },
  {
   "cell_type": "code",
   "execution_count": 34,
   "id": "bfbb655a",
   "metadata": {
    "collapsed": true
   },
   "outputs": [],
   "source": [
    "limits = np.array([[0,615],[0, 2500], [20, 100], [290, 300]])\n",
    "def get_bounds(ys,  offsets = [45, 300, 50], limits = limits):\n",
    "    # cs.shape:1*3, ms.shape:1*3, anchors.shape:1*3\n",
    "    return [(max(l[0], y - o),  min(l[1], y +o) )  for y, l, o in zip(ys, limits[0:3], offsets)] "
   ]
  },
  {
   "cell_type": "code",
   "execution_count": 35,
   "id": "805fd641",
   "metadata": {},
   "outputs": [
    {
     "data": {
      "text/plain": [
       "[(0, 60.375), (0, 450.0), (20, 100), (290, 300)]"
      ]
     },
     "execution_count": 35,
     "metadata": {},
     "output_type": "execute_result"
    }
   ],
   "source": [
    "# 确定搜索空间\n",
    "get_bounds(y[0]) + [(290, 300)]"
   ]
  },
  {
   "cell_type": "code",
   "execution_count": 37,
   "id": "b574fa9f",
   "metadata": {},
   "outputs": [
    {
     "data": {
      "text/plain": [
       "(18480, 40)"
      ]
     },
     "execution_count": 37,
     "metadata": {},
     "output_type": "execute_result"
    }
   ],
   "source": [
    "knn = joblib.load('knn4.pkl')\n",
    "predict_KNN = knn.predict(inpower.iloc[:,0:4])  \n",
    "predict_KNN.shape"
   ]
  },
  {
   "cell_type": "code",
   "execution_count": null,
   "id": "6c94387f",
   "metadata": {
    "collapsed": true
   },
   "outputs": [],
   "source": [
    "knn = joblib.load('knn4.pkl')\n",
    "predict_KNN = knn.predict(inpower)  \n",
    "predict_KNN.shape"
   ]
  },
  {
   "cell_type": "code",
   "execution_count": 40,
   "id": "a1ea875d",
   "metadata": {},
   "outputs": [
    {
     "data": {
      "text/plain": [
       "'0.24.2'"
      ]
     },
     "execution_count": 40,
     "metadata": {},
     "output_type": "execute_result"
    }
   ],
   "source": [
    "sklearn.__version__"
   ]
  },
  {
   "cell_type": "code",
   "execution_count": null,
   "id": "bc2a721c",
   "metadata": {
    "collapsed": true
   },
   "outputs": [],
   "source": []
  }
 ],
 "metadata": {
  "kernelspec": {
   "display_name": "Python 3 (ipykernel)",
   "language": "python",
   "name": "python3"
  },
  "language_info": {
   "codemirror_mode": {
    "name": "ipython",
    "version": 3
   },
   "file_extension": ".py",
   "mimetype": "text/x-python",
   "name": "python",
   "nbconvert_exporter": "python",
   "pygments_lexer": "ipython3",
   "version": "3.9.6"
  },
  "toc": {
   "base_numbering": 1,
   "nav_menu": {},
   "number_sections": true,
   "sideBar": true,
   "skip_h1_title": false,
   "title_cell": "Table of Contents",
   "title_sidebar": "Contents",
   "toc_cell": false,
   "toc_position": {
    "height": "calc(100% - 180px)",
    "left": "10px",
    "top": "150px",
    "width": "165px"
   },
   "toc_section_display": true,
   "toc_window_display": false
  },
  "varInspector": {
   "cols": {
    "lenName": 16,
    "lenType": 16,
    "lenVar": 40
   },
   "kernels_config": {
    "python": {
     "delete_cmd_postfix": "",
     "delete_cmd_prefix": "del ",
     "library": "var_list.py",
     "varRefreshCmd": "print(var_dic_list())"
    },
    "r": {
     "delete_cmd_postfix": ") ",
     "delete_cmd_prefix": "rm(",
     "library": "var_list.r",
     "varRefreshCmd": "cat(var_dic_list()) "
    }
   },
   "types_to_exclude": [
    "module",
    "function",
    "builtin_function_or_method",
    "instance",
    "_Feature"
   ],
   "window_display": false
  }
 },
 "nbformat": 4,
 "nbformat_minor": 5
}
